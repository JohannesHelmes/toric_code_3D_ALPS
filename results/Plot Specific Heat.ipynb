{
 "cells": [
  {
   "cell_type": "markdown",
   "metadata": {},
   "source": [
    "## Plaquette Hamiltonian"
   ]
  },
  {
   "cell_type": "code",
   "execution_count": 22,
   "metadata": {
    "collapsed": false
   },
   "outputs": [],
   "source": [
    "import numpy as np\n",
    "import matplotlib.pyplot as plt\n",
    "from matplotlib import rcParams\n",
    "import prepare_plotting as pp\n",
    "\n",
    "from mpl_toolkits.axes_grid.inset_locator import inset_axes\n",
    "from mpl_toolkits.axes_grid1.inset_locator import mark_inset\n",
    "\n",
    "pp.prepare_aps_fig(rcParams)\n",
    "\n",
    "    \n",
    "L=[8,12,16,20]\n",
    "for l in L:\n",
    "    beta,cv,err=np.loadtxt(\"plaquettes/SpecHeatplaL\"+str(l)+\".dat\",unpack=True)\n",
    "    plt.errorbar(beta,cv/(3*l**3),err/(3*l**3),errorevery=5,capsize=1.5,label=r\"L=\"+str(l))\n",
    "\n",
    "    \n",
    "\n",
    "        \n",
    "plt.axvline(0.76141)\n",
    "\n",
    "plt.axhline(0.0,color=\"black\")\n",
    "\n",
    "plt.xlabel(r\"inverse temperature~~~$\\beta$\")\n",
    "plt.ylabel(r\"specific heat~~~$C_V$\")\n",
    "\n",
    "plt.gcf().subplots_adjust(bottom=0.16,left=0.14,top=0.97,right=0.97)\n",
    "\n",
    "ax = plt.gca()\n",
    "ax.xaxis.set_ticks_position('bottom')\n",
    "plt.xlim(0.0,1.1)\n",
    "\n",
    "#plt.xlim(0.3,0.8)\n",
    "plt.legend(loc=\"center right\",frameon=False,numpoints=1)\n",
    "\n",
    "\n",
    "\n",
    "### Inset #####\n",
    "ax=plt.gca()\n",
    "axins = inset_axes(ax, width=\"40%\", height=\"70%\", loc=6)\n",
    "axins.set_xlim(0.7,0.77)\n",
    "axins.set_ylim(0.2,2.8)\n",
    "\n",
    "plt.xticks(visible=False)\n",
    "plt.yticks(visible=False)\n",
    "\n",
    "plt.tick_params(\n",
    "    axis='both',          # changes apply to the x-axis\n",
    "    which='both',      # both major and minor ticks are affected\n",
    "    bottom='off',      # ticks along the bottom edge are off\n",
    "    top='off',\n",
    "    right='off',\n",
    "    left='off',# ticks along the top edge are off\n",
    "    labelbottom='off')\n",
    "\n",
    "mark_inset(ax, axins, loc1=2, loc2=3, fc=\"none\", ec=\"0.7\")\n",
    "\n",
    "for l in L:\n",
    "    beta,cv,err=np.loadtxt(\"plaquettes/SpecHeatplaL\"+str(l)+\".dat\",unpack=True)\n",
    "    axins.errorbar(beta,cv/(3*l**3),err/(3*l**3),errorevery=5,capsize=1.5,label=r\"L=\"+str(l))\n",
    "axins.axvline(0.76141)\n",
    "\n",
    "\n",
    "plt.savefig(\"SpecHeatPlaquettes.pdf\")\n",
    "plt.show()"
   ]
  },
  {
   "cell_type": "markdown",
   "metadata": {},
   "source": [
    "## Vertex Hamiltonian"
   ]
  },
  {
   "cell_type": "code",
   "execution_count": 25,
   "metadata": {
    "collapsed": false
   },
   "outputs": [],
   "source": [
    "import numpy as np\n",
    "import matplotlib.pyplot as plt\n",
    "from matplotlib import rcParams\n",
    "import prepare_plotting as pp\n",
    "\n",
    "pp.prepare_aps_fig(rcParams)\n",
    "\n",
    "L=[8,12,16,20]\n",
    "for l in L:\n",
    "    beta,cv,err=np.loadtxt(\"vertices/SpecHeatverL\"+str(l)+\".dat\",unpack=True)\n",
    "    plt.errorbar(beta,cv/(3*l**3),err/(3*l**3),errorevery=5,label=r\"L=\"+str(l))\n",
    "\n",
    "l=24\n",
    "beta,cv,err=np.loadtxt(\"vertices/SpecHeatverL\"+str(l+1)+\".dat\",unpack=True)\n",
    "#plt.errorbar(beta,cv/(3*l**3),err/(3*l**3),errorevery=3,label=r\"L=\"+str(l))\n",
    "    \n",
    "#beta,ener,enererr=np.loadtxt(\"vertices/EnergyL8.dat\",unpack=True)\n",
    "#plt.errorbar(beta,ener/(3*8**3),enererr/(3*8**3),label=r\"Energy L=\"+str(8))\n",
    "\n",
    "plt.axhline(0.0,color=\"black\")\n",
    "\n",
    "plt.xlabel(r\"inverse temperature~~~$\\beta$\")\n",
    "plt.ylabel(r\"specific heat per spin~~~$c_V$\")\n",
    "\n",
    "plt.gcf().subplots_adjust(bottom=0.14)\n",
    "plt.gcf().subplots_adjust(left=0.145)\n",
    "\n",
    "#plt.xlim(0.3,0.8)\n",
    "plt.legend(loc=\"upper right\",frameon=False,numpoints=1)\n",
    "plt.savefig(\"SpecHeatVertices.pdf\")\n",
    "plt.show()"
   ]
  },
  {
   "cell_type": "markdown",
   "metadata": {},
   "source": [
    "## Magnetic Susceptibility Plaquette Hamiltonian "
   ]
  },
  {
   "cell_type": "code",
   "execution_count": 9,
   "metadata": {
    "collapsed": false
   },
   "outputs": [],
   "source": [
    "import numpy as np\n",
    "import matplotlib.pyplot as plt\n",
    "from matplotlib import rcParams\n",
    "import prepare_plotting as pp\n",
    "\n",
    "pp.prepare_aps_fig(rcParams)\n",
    "\n",
    "    \n",
    "L=[12]\n",
    "for l in L:\n",
    "    beta,cv,err=np.loadtxt(\"plaquettes_with_field/MagnSuscL\"+str(l)+\".dat\",unpack=True)\n",
    "    plt.errorbar(beta,cv,err,label=r\"L=\"+str(l))\n",
    "\n",
    "for l in L:\n",
    "    beta,cv,err=np.loadtxt(\"plaquettes_with_field/HalfMagnSuscL\"+str(l)+\".dat\",unpack=True)\n",
    "    plt.errorbar(beta,cv,err,label=r\"L=\"+str(l))\n",
    "    \n",
    "plt.axvline(0.221654)\n",
    "plt.axvline(0.221654/2)\n",
    "\n",
    "plt.axhline(0.0,color=\"black\")\n",
    "\n",
    "plt.xlabel(r\"inverse temperature~~~$\\beta$\")\n",
    "plt.ylabel(r\"magnetic susceptiblity~~~$\\chi_m$\")\n",
    "\n",
    "plt.gcf().subplots_adjust(bottom=0.155)\n",
    "plt.gcf().subplots_adjust(left=0.155)\n",
    "\n",
    "#plt.xlim(0.3,0.8)\n",
    "plt.legend(loc=\"upper left\",frameon=False,numpoints=1)\n",
    "plt.savefig(\"MagnSuscPlaquettesField.pdf\")\n",
    "plt.show()"
   ]
  },
  {
   "cell_type": "code",
   "execution_count": 14,
   "metadata": {
    "collapsed": true
   },
   "outputs": [],
   "source": [
    "# Plot the simple magnetization\n",
    "import numpy as np\n",
    "import matplotlib.pyplot as plt\n",
    "from matplotlib import rcParams\n",
    "import prepare_plotting as pp\n",
    "\n",
    "pp.prepare_aps_fig(rcParams)\n",
    "\n",
    "    \n",
    "L=[16]\n",
    "for l in L:\n",
    "    beta,cv,err=np.loadtxt(\"plaquettes_with_field/SimpleMagnMI\"+str(l)+\".dat\",unpack=True)\n",
    "    plt.errorbar(beta,cv,err,label=r\"L=\"+str(l))\n",
    "\n",
    "plt.axvline(0.221654)\n",
    "plt.axvline(0.221654/2)\n",
    "\n",
    "plt.axhline(0.0,color=\"black\")\n",
    "\n",
    "plt.xlabel(r\"loop tension~~~$h$\")\n",
    "plt.ylabel(r\"magnetic field~~~$m$\")\n",
    "\n",
    "plt.gcf().subplots_adjust(bottom=0.155)\n",
    "plt.gcf().subplots_adjust(left=0.155)\n",
    "\n",
    "#plt.xlim(0.3,0.8)\n",
    "plt.legend(loc=\"upper left\",frameon=False,numpoints=1)\n",
    "plt.show()"
   ]
  },
  {
   "cell_type": "markdown",
   "metadata": {},
   "source": [
    "# X Cube Specific Heat"
   ]
  },
  {
   "cell_type": "code",
   "execution_count": 30,
   "metadata": {
    "collapsed": false
   },
   "outputs": [],
   "source": [
    "import numpy as np\n",
    "import matplotlib.pyplot as plt\n",
    "from matplotlib import rcParams\n",
    "import prepare_plotting as pp\n",
    "\n",
    "pp.prepare_aps_fig(rcParams)\n",
    "\n",
    "\n",
    "\n",
    "L=[8]\n",
    "for l in L:\n",
    "    beta,cv,err=np.loadtxt(\"xcube/SpecHeatXCube\"+str(l)+\".dat\",unpack=True)\n",
    "    plt.errorbar(beta,cv/(3*l**3),err/(3*l**3),errorevery=1,label=r\"L=\"+str(l))\n",
    "    \n",
    "beta,cv,err=np.loadtxt(\"vertices/SpecHeatverL8.dat\",unpack=True)\n",
    "plt.errorbar(beta,cv/(3*l**3),err/(3*l**3),errorevery=1,label=r\"L=\"+str(l))\n",
    "\n",
    "beta,ener,enererr=np.loadtxt(\"vertices/EnergyL8.dat\",unpack=True)\n",
    "plt.errorbar(beta,ener/(3*8**3),enererr/(3*8**3),label=r\"Energy L=\"+str(8))\n",
    "\n",
    "beta,ener,enererr=np.loadtxt(\"xcube/Energy8.dat\",unpack=True)\n",
    "plt.errorbar(beta,ener/(3*8**3),enererr/(3*8**3),label=r\"Energy L=\"+str(8))\n",
    "\n",
    "    \n",
    "\n",
    "plt.axhline(0.0,color=\"black\")\n",
    "\n",
    "plt.xlabel(r\"inverse temperature~~~$\\beta$\")\n",
    "plt.ylabel(r\"specific heat per spin~~~$c_V$\")\n",
    "\n",
    "plt.gcf().subplots_adjust(bottom=0.14)\n",
    "plt.gcf().subplots_adjust(left=0.145)\n",
    "\n",
    "#plt.xlim(0.3,0.8)\n",
    "plt.legend(loc=\"upper right\",frameon=False,numpoints=1)\n",
    "plt.savefig(\"SpecHeatXCube.pdf\")\n",
    "plt.show()"
   ]
  }
 ],
 "metadata": {
  "kernelspec": {
   "display_name": "Python 2",
   "language": "python",
   "name": "python2"
  },
  "language_info": {
   "codemirror_mode": {
    "name": "ipython",
    "version": 2
   },
   "file_extension": ".py",
   "mimetype": "text/x-python",
   "name": "python",
   "nbconvert_exporter": "python",
   "pygments_lexer": "ipython2",
   "version": "2.7.11+"
  }
 },
 "nbformat": 4,
 "nbformat_minor": 0
}
