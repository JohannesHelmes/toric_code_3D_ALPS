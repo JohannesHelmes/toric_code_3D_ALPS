{
 "cells": [
  {
   "cell_type": "code",
   "execution_count": 6,
   "metadata": {
    "collapsed": false
   },
   "outputs": [],
   "source": [
    "import numpy as np\n",
    "import matplotlib.pyplot as plt\n",
    "from matplotlib import rcParams\n",
    "rcParams['text.usetex']     = True\n",
    "\n",
    "    \n",
    "L=[8]\n",
    "for l in L:\n",
    "    beta,cv=np.loadtxt(\"SpecHeatL\"+str(l)+\"pla.dat\",unpack=True)\n",
    "    plt.plot(beta,cv,label=r\"L=\"+str(l))\n",
    "\n",
    "        \n",
    "plt.axvline(0.76141)\n",
    "\n",
    "plt.axhline(0.0,color=\"black\")\n",
    "\n",
    "plt.xlabel(r\"inverse temperature~~~$\\beta$\")\n",
    "plt.ylabel(r\"specific heat~~~$C_V$\")\n",
    "\n",
    "#plt.xlim(0.3,0.8)\n",
    "plt.legend(loc=\"upper left\")\n",
    "#plt.savefig(\"SpecHeatPlaquettes.pdf\")\n",
    "plt.show()"
   ]
  }
 ],
 "metadata": {
  "kernelspec": {
   "display_name": "Python 2",
   "language": "python",
   "name": "python2"
  },
  "language_info": {
   "codemirror_mode": {
    "name": "ipython",
    "version": 2
   },
   "file_extension": ".py",
   "mimetype": "text/x-python",
   "name": "python",
   "nbconvert_exporter": "python",
   "pygments_lexer": "ipython2",
   "version": "2.7.10"
  }
 },
 "nbformat": 4,
 "nbformat_minor": 0
}
