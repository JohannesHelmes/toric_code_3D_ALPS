{
 "cells": [
  {
   "cell_type": "markdown",
   "metadata": {},
   "source": [
    "## Plaquette Hamiltonian"
   ]
  },
  {
   "cell_type": "code",
   "execution_count": 7,
   "metadata": {
    "collapsed": false
   },
   "outputs": [],
   "source": [
    "import numpy as np\n",
    "import matplotlib.pyplot as plt\n",
    "from matplotlib import rcParams\n",
    "import prepare_plotting as pp\n",
    "\n",
    "pp.prepare_aps_fig(rcParams)\n",
    "\n",
    "    \n",
    "L=[8,12]\n",
    "for l in L:\n",
    "    beta,cv,err=np.loadtxt(\"plaquettes/SpecHeatL\"+str(l)+\"pla.dat\",unpack=True)\n",
    "    plt.errorbar(beta,cv*(2*l**3),err,label=r\"L=\"+str(l))\n",
    "\n",
    "        \n",
    "plt.axvline(0.76141)\n",
    "\n",
    "plt.axhline(0.0,color=\"black\")\n",
    "\n",
    "plt.xlabel(r\"inverse temperature~~~$\\beta$\")\n",
    "plt.ylabel(r\"specific heat~~~$C_V$\")\n",
    "\n",
    "plt.gcf().subplots_adjust(bottom=0.155)\n",
    "plt.gcf().subplots_adjust(left=0.155)\n",
    "\n",
    "#plt.xlim(0.3,0.8)\n",
    "plt.legend(loc=\"upper left\",frameon=False,numpoints=1)\n",
    "plt.savefig(\"SpecHeatPlaquettes.pdf\")\n",
    "plt.show()"
   ]
  },
  {
   "cell_type": "markdown",
   "metadata": {},
   "source": [
    "## Vertex Hamiltonian"
   ]
  },
  {
   "cell_type": "code",
   "execution_count": 20,
   "metadata": {
    "collapsed": false
   },
   "outputs": [],
   "source": [
    "import numpy as np\n",
    "import matplotlib.pyplot as plt\n",
    "from matplotlib import rcParams\n",
    "import prepare_plotting as pp\n",
    "\n",
    "pp.prepare_aps_fig(rcParams)\n",
    "\n",
    "    \n",
    "L=[8]\n",
    "for l in L:\n",
    "    beta,cv,err=np.loadtxt(\"vertices/SpecHeatverL\"+str(l)+\".dat\",unpack=True)\n",
    "    plt.errorbar(beta,cv*(2*l**3),err,label=r\"L=\"+str(l))\n",
    "\n",
    "L=[9]\n",
    "for l in L:\n",
    "    beta,cv,err=np.loadtxt(\"vertices/SpecHeatverL\"+str(l)+\".dat\",unpack=True)\n",
    "    plt.errorbar(beta,cv/(3*l**3),err/(3*l**3),label=r\"L=\"+str(l))\n",
    "\n",
    "plt.axhline(0.0,color=\"black\")\n",
    "\n",
    "plt.xlabel(r\"inverse temperature~~~$\\beta$\")\n",
    "plt.ylabel(r\"specific heat~~~$C_V$\")\n",
    "\n",
    "plt.gcf().subplots_adjust(bottom=0.155)\n",
    "plt.gcf().subplots_adjust(left=0.155)\n",
    "\n",
    "#plt.xlim(0.3,0.8)\n",
    "plt.legend(loc=\"upper left\",frameon=False,numpoints=1)\n",
    "plt.savefig(\"SpecHeatVertices.pdf\")\n",
    "plt.show()"
   ]
  }
 ],
 "metadata": {
  "kernelspec": {
   "display_name": "Python 2",
   "language": "python",
   "name": "python2"
  },
  "language_info": {
   "codemirror_mode": {
    "name": "ipython",
    "version": 2
   },
   "file_extension": ".py",
   "mimetype": "text/x-python",
   "name": "python",
   "nbconvert_exporter": "python",
   "pygments_lexer": "ipython2",
   "version": "2.7.10"
  }
 },
 "nbformat": 4,
 "nbformat_minor": 0
}
