{
 "cells": [
  {
   "cell_type": "markdown",
   "metadata": {
    "collapsed": true
   },
   "source": [
    "# Mutual Information"
   ]
  },
  {
   "cell_type": "markdown",
   "metadata": {},
   "source": [
    "## Vertices"
   ]
  },
  {
   "cell_type": "code",
   "execution_count": 37,
   "metadata": {
    "collapsed": false
   },
   "outputs": [],
   "source": [
    "import numpy as np\n",
    "import matplotlib.pyplot as plt\n",
    "from matplotlib import rcParams\n",
    "\n",
    "rcParams['text.usetex']     = True\n",
    "\n",
    "L=[12,16]\n",
    "\n",
    "for l in L:\n",
    "    beta,gamma,gamma_err=np.loadtxt(\"MI3D\"+str(l)+\"ver.dat\",unpack=True)\n",
    "    plt.errorbar(beta,gamma/(2*l**2),gamma_err/(2*l**2),label=\"L = \"+str(l))\n",
    "    \n",
    "plt.axhline(0.0,color=\"black\")\n",
    "plt.axhline(np.log(2),color=\"red\")\n",
    "\n",
    "plt.ylabel(r\"MI / $(2L^2)$\")\n",
    "plt.xlabel(r\"$\\beta$\")\n",
    "\n",
    "plt.ylim(0.0,0.8)\n",
    "plt.legend(loc=\"upper left\")\n",
    "#plt.savefig(\"MI3d_vertices.pdf\")\n",
    "plt.show()\n"
   ]
  },
  {
   "cell_type": "markdown",
   "metadata": {},
   "source": [
    "## Plaquettes with magnetic field"
   ]
  },
  {
   "cell_type": "code",
   "execution_count": 58,
   "metadata": {
    "collapsed": false
   },
   "outputs": [],
   "source": [
    "import numpy as np\n",
    "import matplotlib.pyplot as plt\n",
    "from matplotlib import rcParams\n",
    "\n",
    "######### Plotting parameters: #########\n",
    "fig_width_pt = 246.0  # Get this from LaTeX using \\showthe\\columnwidth\n",
    "inches_per_pt = 1.0/72.27               # Convert pt to inch\n",
    "golden_mean = (np.sqrt(5)-1.0)/2.0         # Aesthetic ratio\n",
    "fig_width = fig_width_pt*inches_per_pt  # width in inches\n",
    "#fig_height = fig_width*golden_mean      # height in inches\n",
    "fig_height = fig_width*0.75      # height in inches\n",
    "fig_size =  [fig_width,fig_height]\n",
    "\n",
    "rcParams['axes.labelsize']  = 10\n",
    "rcParams['figure.figsize']  = fig_size\n",
    "rcParams['font.family']     = 'serif'\n",
    "rcParams['font.serif']      = ['Computer Modern']\n",
    "rcParams['font.size']       = 10\n",
    "#rcParams['text.fontsize']   = 10 ##text.fontsize is deprecated and replaced with font.size\n",
    "rcParams['text.usetex']     = True\n",
    "rcParams['legend.fontsize'] = 8\n",
    "rcParams['xtick.labelsize'] = 8\n",
    "rcParams['ytick.labelsize'] = 8\n",
    "\n",
    "\n",
    "L=[8,12,16]\n",
    "\n",
    "for l in L:\n",
    "    beta,gamma,gamma_err=np.loadtxt(\"MI3D\"+str(l)+\"magn.dat\",unpack=True)\n",
    "    plt.errorbar(beta,gamma/(2*l**2)+np.log(2),gamma_err/(2*l**2),label=\"L = \"+str(l))\n",
    "    \n",
    "plt.axhline(0.0,color=\"black\")\n",
    "plt.axhline(np.log(2),color=\"red\")\n",
    "\n",
    "plt.axvline(0.221654)\n",
    "plt.axvline(0.221654/2)\n",
    "\n",
    "plt.ylabel(r\"MI / $(2L^2)$\")\n",
    "plt.xlabel(r\"$h$\")\n",
    "plt.gcf().subplots_adjust(bottom=0.155)\n",
    "\n",
    "\n",
    "#plt.ylim(0.0,0.8)\n",
    "plt.legend(loc=\"lower left\",frameon=False,numpoints=1)\n",
    "plt.savefig(\"MI3d_plaquettes_magn.pdf\")\n",
    "plt.show()\n"
   ]
  },
  {
   "cell_type": "markdown",
   "metadata": {},
   "source": [
    "# Gamma\n",
    "## Charge excitations (vertices)"
   ]
  },
  {
   "cell_type": "code",
   "execution_count": 63,
   "metadata": {
    "collapsed": false
   },
   "outputs": [],
   "source": [
    "import numpy as np\n",
    "import matplotlib.pyplot as plt\n",
    "from matplotlib import rcParams\n",
    "\n",
    "######### Plotting parameters: #########\n",
    "fig_width_pt = 246.0  # Get this from LaTeX using \\showthe\\columnwidth\n",
    "inches_per_pt = 1.0/72.27               # Convert pt to inch\n",
    "golden_mean = (np.sqrt(5)-1.0)/2.0         # Aesthetic ratio\n",
    "fig_width = fig_width_pt*inches_per_pt  # width in inches\n",
    "#fig_height = fig_width*golden_mean      # height in inches\n",
    "fig_height = fig_width*0.75      # height in inches\n",
    "fig_size =  [fig_width,fig_height]\n",
    "\n",
    "rcParams['axes.labelsize']  = 10\n",
    "rcParams['figure.figsize']  = fig_size\n",
    "rcParams['font.family']     = 'serif'\n",
    "rcParams['font.serif']      = ['Computer Modern']\n",
    "rcParams['font.size']       = 10\n",
    "#rcParams['text.fontsize']   = 10 ##text.fontsize is deprecated and replaced with font.size\n",
    "rcParams['text.usetex']     = True\n",
    "rcParams['legend.fontsize'] = 8\n",
    "rcParams['xtick.labelsize'] = 8\n",
    "rcParams['ytick.labelsize'] = 8\n",
    "\n",
    "def numerical_der(x, y, n=2):\n",
    "    l=len(x)\n",
    "    ders = np.zeros(l)\n",
    "    xmean = 1./(2*n+1) * np.array([sum(x[i-n:i+n+1]) for i in range(n,l-n)])\n",
    "    ymean = 1./(2*n+1) * np.array([sum(y[i-n:i+n+1]) for i in range(n,l-n)])\n",
    "\n",
    "    for i,xm,ym in zip(range(n, l-n),xmean,ymean):\n",
    "        ders[i] = np.dot((x[i-n:i+n+1]-xm),(y[i-n:i+n+1]-ym)) / sum((x[i-n:i+n+1]-xm)**2)\n",
    "    \n",
    "    return ders\n",
    "    \n",
    "Lver=[8,12,16,20,24]\n",
    "for l in Lver:\n",
    "    beta,gamma,gamma_err=np.loadtxt(\"LW3D\"+str(l)+\"ver.dat\",unpack=True)\n",
    "    plt.errorbar(beta,gamma,gamma_err,label=\"L = \"+str(l))\n",
    "    #plt.plot(beta,numerical_der(beta,gamma,10))\n",
    "\n",
    "l=9\n",
    "#beta,gamma,gamma_err=np.loadtxt(\"LW3D\"+str(l)+\"ver.dat\",unpack=True)\n",
    "#plt.errorbar(beta,gamma-0.19,gamma_err,label=\"L = \"+str(l))\n",
    "        \n",
    "#plt.axvline(0.76141)\n",
    "#plt.axvline(0.76141/2)\n",
    "\n",
    "plt.axhline(0.0,color=\"black\")\n",
    "plt.axhline(np.log(2),color=\"red\")\n",
    "\n",
    "plt.xlabel(r\"$\\beta$\")\n",
    "plt.ylabel(r\"$\\gamma$\")\n",
    "\n",
    "plt.gcf().subplots_adjust(bottom=0.155)\n",
    "\n",
    "\n",
    "#plt.xlim(0.3,0.8)\n",
    "plt.legend(loc=\"upper left\",frameon=False,numpoints=1)\n",
    "plt.savefig(\"Gamma3d_vertices.pdf\")\n",
    "plt.show()\n"
   ]
  },
  {
   "cell_type": "markdown",
   "metadata": {
    "collapsed": true
   },
   "source": [
    "## Flux excitations (plaquettes)"
   ]
  },
  {
   "cell_type": "code",
   "execution_count": 50,
   "metadata": {
    "collapsed": false
   },
   "outputs": [],
   "source": [
    "import numpy as np\n",
    "import matplotlib.pyplot as plt\n",
    "from matplotlib import rcParams\n",
    "rcParams['text.usetex']     = True\n",
    "\n",
    "def numerical_der(x, y, n=2):\n",
    "    l=len(x)\n",
    "    ders = np.zeros(l)\n",
    "    xmean = 1./(2*n+1) * np.array([sum(x[i-n:i+n+1]) for i in range(n,l-n)])\n",
    "    ymean = 1./(2*n+1) * np.array([sum(y[i-n:i+n+1]) for i in range(n,l-n)])\n",
    "\n",
    "    for i,xm,ym in zip(range(n, l-n),xmean,ymean):\n",
    "        ders[i] = np.dot((x[i-n:i+n+1]-xm),(y[i-n:i+n+1]-ym)) / sum((x[i-n:i+n+1]-xm)**2)\n",
    "    \n",
    "    return ders\n",
    "    \n",
    "L=[8,12,16]\n",
    "for l in L:\n",
    "    beta,gamma,gamma_err=np.loadtxt(\"LW3D\"+str(l)+\"pla.dat\",unpack=True)\n",
    "    plt.errorbar(beta,gamma,gamma_err,label=\"L = \"+str(l))\n",
    "    #plt.plot(beta,numerical_der(beta,gamma,10))\n",
    "\n",
    "l=8\n",
    "beta,gamma,gamma_err=np.loadtxt(\"LW3D\"+str(l)+\"plaswi.dat\",unpack=True)\n",
    "plt.errorbar(beta,gamma,gamma_err,fmt='.',label=\"L = \"+str(l)+\", switcher\")\n",
    "        \n",
    "plt.axvline(0.76141)\n",
    "plt.axvline(0.76141/2)\n",
    "\n",
    "plt.axhline(0.0,color=\"black\")\n",
    "plt.axhline(np.log(2),color=\"red\")\n",
    "\n",
    "plt.xlabel(r\"$\\beta$\")\n",
    "plt.ylabel(r\"$\\gamma$\")\n",
    "\n",
    "plt.xlim(0.19,0.81)\n",
    "plt.legend(loc=\"upper left\")\n",
    "plt.savefig(\"Gamma3d_plaquettes.pdf\")\n",
    "plt.show()"
   ]
  },
  {
   "cell_type": "markdown",
   "metadata": {},
   "source": [
    "## Plaquette Groundstate in magnetic field"
   ]
  },
  {
   "cell_type": "code",
   "execution_count": 51,
   "metadata": {
    "collapsed": true
   },
   "outputs": [],
   "source": [
    "import numpy as np\n",
    "import matplotlib.pyplot as plt\n",
    "from matplotlib import rcParams\n",
    "rcParams['text.usetex']     = True\n",
    "\n",
    "    \n",
    "L=[8,9,12,13]\n",
    "for l in L:\n",
    "    magn,gamma,gamma_err=np.loadtxt(\"LW3D\"+str(l)+\"magn.dat\",unpack=True)\n",
    "    plt.errorbar(magn,gamma,gamma_err,label=\"L = \"+str(l))\n",
    "    #plt.plot(beta,numerical_der(beta,gamma,10))\n",
    "\n",
    "    \n",
    "plt.axvline(0.221654)\n",
    "plt.axvline(0.221654/2)\n",
    "\n",
    "plt.axhline(0.0,color=\"black\")\n",
    "plt.axhline(np.log(2),color=\"red\")\n",
    "\n",
    "plt.xlabel(r\"loop tension~~~$h$\")\n",
    "plt.ylabel(r\"$\\gamma$\")\n",
    "\n",
    "#plt.xlim(0.3,0.8)\n",
    "plt.legend(loc=\"upper left\")\n",
    "#plt.savefig(\"Gamma3d_magn.pdf\")\n",
    "plt.show()"
   ]
  }
 ],
 "metadata": {
  "kernelspec": {
   "display_name": "Python 2",
   "language": "python",
   "name": "python2"
  },
  "language_info": {
   "codemirror_mode": {
    "name": "ipython",
    "version": 2
   },
   "file_extension": ".py",
   "mimetype": "text/x-python",
   "name": "python",
   "nbconvert_exporter": "python",
   "pygments_lexer": "ipython2",
   "version": "2.7.10"
  }
 },
 "nbformat": 4,
 "nbformat_minor": 0
}
