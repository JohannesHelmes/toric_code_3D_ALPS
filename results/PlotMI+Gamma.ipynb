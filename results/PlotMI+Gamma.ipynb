{
 "cells": [
  {
   "cell_type": "code",
   "execution_count": null,
   "metadata": {
    "collapsed": true
   },
   "outputs": [],
   "source": [
    "# Mutual Information"
   ]
  },
  {
   "cell_type": "code",
   "execution_count": 33,
   "metadata": {
    "collapsed": false
   },
   "outputs": [],
   "source": [
    "import numpy as np\n",
    "import matplotlib.pyplot as plt\n",
    "from matplotlib import rcParams\n",
    "\n",
    "rcParams['text.usetex']     = True\n",
    "\n",
    "L=[12,16]\n",
    "\n",
    "for l in L:\n",
    "    beta,gamma,gamma_err=np.loadtxt(\"MI3D\"+str(l)+\"ver.dat\",unpack=True)\n",
    "    plt.errorbar(beta,gamma/(2*l**2),gamma_err/(2*l**2),label=\"L = \"+str(l))\n",
    "    \n",
    "plt.axhline(0.0,color=\"black\")\n",
    "plt.axhline(np.log(2),color=\"red\")\n",
    "\n",
    "plt.ylabel(r\"MI / $(2L^2)$\")\n",
    "plt.xlabel(r\"$\\beta$\")\n",
    "\n",
    "plt.ylim(0.0,0.8)\n",
    "plt.legend(loc=\"upper left\")\n",
    "plt.savefig(\"MI3d.pdf\")\n",
    "plt.show()\n"
   ]
  },
  {
   "cell_type": "markdown",
   "metadata": {},
   "source": [
    "# Gamma\n",
    "## Charge excitations (vertices)"
   ]
  },
  {
   "cell_type": "code",
   "execution_count": 8,
   "metadata": {
    "collapsed": false
   },
   "outputs": [],
   "source": [
    "import numpy as np\n",
    "import matplotlib.pyplot as plt\n",
    "from matplotlib import rcParams\n",
    "rcParams['text.usetex']     = True\n",
    "\n",
    "def numerical_der(x, y, n=2):\n",
    "    l=len(x)\n",
    "    ders = np.zeros(l)\n",
    "    xmean = 1./(2*n+1) * np.array([sum(x[i-n:i+n+1]) for i in range(n,l-n)])\n",
    "    ymean = 1./(2*n+1) * np.array([sum(y[i-n:i+n+1]) for i in range(n,l-n)])\n",
    "\n",
    "    for i,xm,ym in zip(range(n, l-n),xmean,ymean):\n",
    "        ders[i] = np.dot((x[i-n:i+n+1]-xm),(y[i-n:i+n+1]-ym)) / sum((x[i-n:i+n+1]-xm)**2)\n",
    "    \n",
    "    return ders\n",
    "    \n",
    "Lver=[8,9,12,16,20]\n",
    "for l in Lver:\n",
    "    beta,gamma,gamma_err=np.loadtxt(\"LW3D\"+str(l)+\"ver.dat\",unpack=True)\n",
    "    plt.errorbar(beta,gamma,gamma_err,label=\"L = \"+str(l))\n",
    "    #plt.plot(beta,numerical_der(beta,gamma,10))\n",
    "\n",
    "l=24\n",
    "beta,gamma,gamma_err=np.loadtxt(\"LW3D\"+str(l)+\"ver.dat\",unpack=True)\n",
    "plt.errorbar(beta,gamma-0.09,gamma_err,label=\"L = \"+str(l))\n",
    "        \n",
    "#plt.axvline(0.76141)\n",
    "#plt.axvline(0.76141/2)\n",
    "\n",
    "plt.axhline(0.0,color=\"black\")\n",
    "plt.axhline(np.log(2),color=\"red\")\n",
    "\n",
    "plt.xlabel(r\"$\\beta$\")\n",
    "plt.ylabel(r\"$\\gamma$\")\n",
    "\n",
    "#plt.xlim(0.3,0.8)\n",
    "plt.legend(loc=\"upper left\")\n",
    "#plt.savefig(\"Gamma3d.pdf\")\n",
    "plt.show()\n"
   ]
  },
  {
   "cell_type": "markdown",
   "metadata": {
    "collapsed": true
   },
   "source": [
    "## Flux excitations (plaquettes)"
   ]
  },
  {
   "cell_type": "code",
   "execution_count": 6,
   "metadata": {
    "collapsed": true
   },
   "outputs": [],
   "source": [
    "import numpy as np\n",
    "import matplotlib.pyplot as plt\n",
    "from matplotlib import rcParams\n",
    "rcParams['text.usetex']     = True\n",
    "\n",
    "def numerical_der(x, y, n=2):\n",
    "    l=len(x)\n",
    "    ders = np.zeros(l)\n",
    "    xmean = 1./(2*n+1) * np.array([sum(x[i-n:i+n+1]) for i in range(n,l-n)])\n",
    "    ymean = 1./(2*n+1) * np.array([sum(y[i-n:i+n+1]) for i in range(n,l-n)])\n",
    "\n",
    "    for i,xm,ym in zip(range(n, l-n),xmean,ymean):\n",
    "        ders[i] = np.dot((x[i-n:i+n+1]-xm),(y[i-n:i+n+1]-ym)) / sum((x[i-n:i+n+1]-xm)**2)\n",
    "    \n",
    "    return ders\n",
    "    \n",
    "L=[8]\n",
    "for l in L:\n",
    "    beta,gamma,gamma_err=np.loadtxt(\"LW3D\"+str(l)+\"pla.dat\",unpack=True)\n",
    "    plt.errorbar(beta,gamma,gamma_err,label=\"L = \"+str(l))\n",
    "    #plt.plot(beta,numerical_der(beta,gamma,10))\n",
    "\n",
    "l=24\n",
    "#beta,gamma,gamma_err=np.loadtxt(\"LW3D\"+str(l)+\"ver.dat\",unpack=True)\n",
    "#plt.errorbar(beta,gamma-0.09,gamma_err,label=\"L = \"+str(l))\n",
    "        \n",
    "plt.axvline(0.76141)\n",
    "plt.axvline(0.76141/2)\n",
    "\n",
    "plt.axhline(0.0,color=\"black\")\n",
    "plt.axhline(np.log(2),color=\"red\")\n",
    "\n",
    "plt.xlabel(r\"$\\beta$\")\n",
    "plt.ylabel(r\"$\\gamma$\")\n",
    "\n",
    "#plt.xlim(0.3,0.8)\n",
    "plt.legend(loc=\"upper left\")\n",
    "#plt.savefig(\"Gamma3d_plaquettes.pdf\")\n",
    "plt.show()"
   ]
  }
 ],
 "metadata": {
  "kernelspec": {
   "display_name": "Python 2",
   "language": "python",
   "name": "python2"
  },
  "language_info": {
   "codemirror_mode": {
    "name": "ipython",
    "version": 2
   },
   "file_extension": ".py",
   "mimetype": "text/x-python",
   "name": "python",
   "nbconvert_exporter": "python",
   "pygments_lexer": "ipython2",
   "version": "2.7.10"
  }
 },
 "nbformat": 4,
 "nbformat_minor": 0
}
