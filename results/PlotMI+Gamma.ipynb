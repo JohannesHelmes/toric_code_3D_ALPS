{
 "cells": [
  {
   "cell_type": "code",
   "execution_count": null,
   "metadata": {
    "collapsed": true
   },
   "outputs": [],
   "source": [
    "# Mutual Information"
   ]
  },
  {
   "cell_type": "markdown",
   "metadata": {},
   "source": [
    "## Vertices"
   ]
  },
  {
   "cell_type": "code",
   "execution_count": 55,
   "metadata": {
    "collapsed": false
   },
   "outputs": [],
   "source": [
    "import numpy as np\n",
    "import matplotlib.pyplot as plt\n",
    "from matplotlib import rcParams\n",
    "\n",
    "rcParams['text.usetex']     = True\n",
    "\n",
    "L=[12,16]\n",
    "\n",
    "for l in L:\n",
    "    beta,gamma,gamma_err=np.loadtxt(\"vertices/MI3D\"+str(l)+\"ver.dat\",unpack=True)\n",
    "    plt.errorbar(beta,gamma/(2*l**2),gamma_err/(2*l**2),label=\"L = \"+str(l))\n",
    "    \n",
    "plt.axhline(0.0,color=\"black\")\n",
    "plt.axhline(np.log(2),color=\"red\")\n",
    "\n",
    "plt.ylabel(r\"MI / $(2L^2)$\")\n",
    "plt.xlabel(r\"$\\beta$\")\n",
    "\n",
    "plt.ylim(0.0,0.8)\n",
    "plt.legend(loc=\"upper left\")\n",
    "#plt.savefig(\"MI3d_vertices.pdf\")\n",
    "plt.show()\n"
   ]
  },
  {
   "cell_type": "markdown",
   "metadata": {},
   "source": [
    "## Plaquettes with magnetic field"
   ]
  },
  {
   "cell_type": "code",
   "execution_count": 2,
   "metadata": {
    "collapsed": false
   },
   "outputs": [],
   "source": [
    "import numpy as np\n",
    "import matplotlib.pyplot as plt\n",
    "from matplotlib import rcParams\n",
    "\n",
    "######### Plotting parameters: #########\n",
    "fig_width_pt = 246.0  # Get this from LaTeX using \\showthe\\columnwidth\n",
    "inches_per_pt = 1.0/72.27               # Convert pt to inch\n",
    "golden_mean = (np.sqrt(5)-1.0)/2.0         # Aesthetic ratio\n",
    "fig_width = fig_width_pt*inches_per_pt  # width in inches\n",
    "#fig_height = fig_width*golden_mean      # height in inches\n",
    "fig_height = fig_width*0.75      # height in inches\n",
    "fig_size =  [fig_width,fig_height]\n",
    "\n",
    "rcParams['axes.labelsize']  = 10\n",
    "rcParams['figure.figsize']  = fig_size\n",
    "rcParams['font.family']     = 'serif'\n",
    "rcParams['font.serif']      = ['Computer Modern']\n",
    "rcParams['font.size']       = 10\n",
    "#rcParams['text.fontsize']   = 10 ##text.fontsize is deprecated and replaced with font.size\n",
    "rcParams['text.usetex']     = True\n",
    "rcParams['legend.fontsize'] = 8\n",
    "rcParams['xtick.labelsize'] = 8\n",
    "rcParams['ytick.labelsize'] = 8\n",
    "\n",
    "\n",
    "L=[4,8,12,16]\n",
    "\n",
    "for l in L:\n",
    "    beta,gamma,gamma_err=np.loadtxt(\"plaquettes_with_field/MI3D\"+str(l)+\"magn.dat\",unpack=True)\n",
    "    plt.errorbar(beta,gamma/(2*(l**2))+np.log(2),gamma_err/(2*l**2),label=\"L = \"+str(l))  \n",
    "    \n",
    "plt.axhline(0.0,color=\"black\")\n",
    "plt.axhline(np.log(2),color=\"red\")\n",
    "\n",
    "plt.axvline(0.221654)\n",
    "plt.axvline(0.221654/2)\n",
    "\n",
    "plt.ylabel(r\"mutual information~~~$I_2 / (2L^2 - 1)$\")\n",
    "plt.xlabel(r\"loop tension~~~$h$\")\n",
    "plt.gcf().subplots_adjust(bottom=0.135,left=0.155)\n",
    "\n",
    "plt.xlim(0.0,0.3)\n",
    "#plt.ylim(0.0,0.8)\n",
    "plt.legend(loc=\"center left\",frameon=False,numpoints=1)\n",
    "plt.savefig(\"MI3d_plaquettes_magn.pdf\")\n",
    "plt.show()\n"
   ]
  },
  {
   "cell_type": "markdown",
   "metadata": {},
   "source": [
    "# Gamma\n",
    "## Charge excitations (vertices)"
   ]
  },
  {
   "cell_type": "code",
   "execution_count": 12,
   "metadata": {
    "collapsed": false
   },
   "outputs": [],
   "source": [
    "import numpy as np\n",
    "import matplotlib.pyplot as plt\n",
    "from mpl_toolkits.axes_grid.inset_locator import inset_axes\n",
    "from matplotlib import rcParams\n",
    "import prepare_plotting as pp\n",
    "\n",
    "pp.prepare_aps_fig(rcParams)\n",
    "\n",
    "def numerical_der(x, y, n=2):\n",
    "    l=len(x)\n",
    "    ders = np.zeros(l)\n",
    "    xmean = 1./(2*n+1) * np.array([sum(x[i-n:i+n+1]) for i in range(n,l-n)])\n",
    "    ymean = 1./(2*n+1) * np.array([sum(y[i-n:i+n+1]) for i in range(n,l-n)])\n",
    "\n",
    "    for i,xm,ym in zip(range(n, l-n),xmean,ymean):\n",
    "        ders[i] = np.dot((x[i-n:i+n+1]-xm),(y[i-n:i+n+1]-ym)) / sum((x[i-n:i+n+1]-xm)**2)\n",
    "    \n",
    "    return ders\n",
    "    \n",
    "Lver=[8,12,16,20,24]\n",
    "ccycle=['b','g','r','c','m']\n",
    "T_cross=[]\n",
    "for c,l in enumerate(Lver):\n",
    "    beta,gamma,gamma_err=np.loadtxt(\"vertices/LW3D\"+str(l)+\"ver.dat\",unpack=True)\n",
    "    plt.errorbar(beta,gamma,gamma_err,errorevery=5,fmt='-',color=ccycle[c],label=\"L = \"+str(l))\n",
    "    derivative=numerical_der(beta,gamma,15)\n",
    "    T_cross.append(1./beta[np.argmax(derivative)])\n",
    "\n",
    "plt.axhline(0.0,color=\"black\")\n",
    "plt.axhline(np.log(2),color=\"red\")\n",
    "\n",
    "plt.xlabel(r\"inverse temperature~~~$\\beta$\")\n",
    "plt.ylabel(r\"topological entropy~~~$\\gamma$\")\n",
    "plt.ylim(-0.1,0.9)\n",
    "plt.xlim(0.0,5.7)\n",
    "plt.legend(loc=\"center\",frameon=False,numpoints=1,bbox_to_anchor=[0.83,0.32])\n",
    "\n",
    "\n",
    "ax=plt.gca()\n",
    "axins = inset_axes(ax, width=0.77, height=0.6, loc=2, bbox_transform=ax.figure.transFigure, \n",
    "                   bbox_to_anchor=[0.235,0.9])\n",
    "\n",
    "axins.plot(1./np.log(Lver),T_cross,'.-')\n",
    "a, b = np.polyfit(1./np.log(Lver),T_cross,1)\n",
    "xrrange=np.array([-0.04,0.5])\n",
    "axins.plot(xrrange,a*xrrange+b,'-')\n",
    "\n",
    "axins.set_xlim(-0.05,0.5)\n",
    "axins.set_ylim(-0.05,0.46)\n",
    "axins.axhline(0.0,color=\"gray\")\n",
    "axins.axvline(0.0,color=\"gray\")\n",
    "\n",
    "axins.set_xlabel(r\"$ 1 / \\ln L$\")\n",
    "axins.set_ylabel(r\"$T_\\text{cross}$\")\n",
    "\n",
    "axins.set_xticks([0.0,0.2,0.4])\n",
    "axins.set_yticks([0.0,0.2,0.4])\n",
    "\n",
    "plt.gcf().subplots_adjust(bottom=0.14,left=0.12)\n",
    "\n",
    "\n",
    "#plt.xlim(0.3,0.8)\n",
    "#plt.savefig(\"Gamma3d_vertices.pdf\")\n",
    "plt.show()\n"
   ]
  },
  {
   "cell_type": "code",
   "execution_count": null,
   "metadata": {
    "collapsed": true
   },
   "outputs": [],
   "source": []
  },
  {
   "cell_type": "markdown",
   "metadata": {},
   "source": [
    "## Charge excitations (vertices) -- 1st derivative"
   ]
  },
  {
   "cell_type": "code",
   "execution_count": 48,
   "metadata": {
    "collapsed": false
   },
   "outputs": [
    {
     "name": "stdout",
     "output_type": "stream",
     "text": [
      "0.948044931789 -0.00629622401179\n"
     ]
    }
   ],
   "source": [
    "import numpy as np\n",
    "import matplotlib.pyplot as plt\n",
    "from matplotlib import rcParams\n",
    "from mpl_toolkits.axes_grid.inset_locator import inset_axes\n",
    "import prepare_plotting as pp\n",
    "\n",
    "pp.prepare_aps_fig(rcParams)\n",
    "\n",
    "def numerical_der(x, y, n=2):\n",
    "    l=len(x)\n",
    "    ders = np.zeros(l)\n",
    "    xmean = 1./(2*n+1) * np.array([sum(x[i-n:i+n+1]) for i in range(n,l-n)])\n",
    "    ymean = 1./(2*n+1) * np.array([sum(y[i-n:i+n+1]) for i in range(n,l-n)])\n",
    "\n",
    "    for i,xm,ym in zip(range(n, l-n),xmean,ymean):\n",
    "        ders[i] = np.dot((x[i-n:i+n+1]-xm),(y[i-n:i+n+1]-ym)) / sum((x[i-n:i+n+1]-xm)**2)\n",
    "    \n",
    "    return ders\n",
    "    \n",
    "Lver=np.array([8,12,16,20,24])\n",
    "T_cross=[]\n",
    "for l in Lver:\n",
    "    beta,gamma,gamma_err=np.loadtxt(\"LW3D\"+str(l)+\"ver.dat\",unpack=True)\n",
    "    #plt.errorbar(beta,gamma,gamma_err,label=\"L = \"+str(l))\n",
    "    derivative=numerical_der(beta,gamma,15)\n",
    "    plt.plot(beta,derivative,label=\"L = \"+str(l))\n",
    "    T_cross.append(1./beta[np.argmax(derivative)])\n",
    "\n",
    "\n",
    "\n",
    "plt.axhline(0.0,color=\"black\")\n",
    "#plt.axhline(np.log(2),color=\"red\")\n",
    "\n",
    "plt.xlabel(r\"$\\beta$\")\n",
    "plt.ylabel(r\"$d \\gamma / d \\beta$\")\n",
    "\n",
    "plt.gcf().subplots_adjust(bottom=0.155)\n",
    "plt.ylim(0.0,1.0)\n",
    "\n",
    "#plt.xlim(0.3,0.8)\n",
    "plt.legend(loc=\"upper left\",frameon=False,numpoints=1)\n",
    "\n",
    "ax=plt.gca()\n",
    "axins = inset_axes(ax, width=\"35%\", height=\"30%\", loc=1)\n",
    "\n",
    "axins.plot(1./np.log(Lver),T_cross,'.-')\n",
    "a, b = np.polyfit(1./np.log(Lver),T_cross,1)\n",
    "xrrange=np.array([-0.04,0.5])\n",
    "axins.plot(xrrange,a*xrrange+b,'-')\n",
    "\n",
    "axins.set_xlim(-0.05,0.5)\n",
    "axins.set_ylim(-0.05,0.46)\n",
    "axins.axhline(0.0,color=\"gray\")\n",
    "axins.axvline(0.0,color=\"gray\")\n",
    "\n",
    "axins.set_xlabel(r\"$ 1 / \\ln L$\")\n",
    "axins.set_ylabel(r\"$T_\\text{cross}$\")\n",
    "\n",
    "axins.set_xticks([0.0,0.2,0.4])\n",
    "\n",
    "\n",
    "\n",
    "plt.savefig(\"Gamma3d_vertices_derivative.pdf\")\n",
    "plt.show()"
   ]
  },
  {
   "cell_type": "markdown",
   "metadata": {
    "collapsed": true
   },
   "source": [
    "## Flux excitations (plaquettes)"
   ]
  },
  {
   "cell_type": "code",
   "execution_count": 20,
   "metadata": {
    "collapsed": false
   },
   "outputs": [],
   "source": [
    "import numpy as np\n",
    "import matplotlib.pyplot as plt\n",
    "from matplotlib import rcParams\n",
    "\n",
    "import prepare_plotting as pp\n",
    "\n",
    "pp.prepare_aps_fig(rcParams)\n",
    "\n",
    "def numerical_der(x, y, n=2):\n",
    "    l=len(x)\n",
    "    ders = np.zeros(l)\n",
    "    xmean = 1./(2*n+1) * np.array([sum(x[i-n:i+n+1]) for i in range(n,l-n)])\n",
    "    ymean = 1./(2*n+1) * np.array([sum(y[i-n:i+n+1]) for i in range(n,l-n)])\n",
    "\n",
    "    for i,xm,ym in zip(range(n, l-n),xmean,ymean):\n",
    "        ders[i] = np.dot((x[i-n:i+n+1]-xm),(y[i-n:i+n+1]-ym)) / sum((x[i-n:i+n+1]-xm)**2)\n",
    "    \n",
    "    return ders\n",
    "    \n",
    "L=[8,12,16,20]\n",
    "for l in L:\n",
    "    beta,gamma,gamma_err=np.loadtxt(\"plaquettes/LW3D\"+str(l)+\"pla.dat\",unpack=True)\n",
    "    plt.errorbar(beta,gamma,gamma_err,errorevery=5,label=\"L = \"+str(l))\n",
    "    #plt.plot(beta,numerical_der(beta,gamma,10))\n",
    "\n",
    "l=8\n",
    "beta,gamma,gamma_err=np.loadtxt(\"plaquettes/LW3D\"+str(l)+\"plaswi.dat\",unpack=True)\n",
    "#plt.errorbar(beta,gamma,gamma_err,fmt='.',label=\"L = \"+str(l)+\", switcher\")\n",
    "        \n",
    "plt.axvline(0.76141)\n",
    "plt.axvline(0.76141/2)\n",
    "\n",
    "plt.axhline(0.0,color=\"black\")\n",
    "plt.axhline(np.log(2),color=\"red\")\n",
    "\n",
    "plt.xlabel(r\"$\\beta$\")\n",
    "plt.ylabel(r\"$\\gamma$\")\n",
    "\n",
    "plt.xlim(0.19,0.81)\n",
    "plt.gcf().subplots_adjust(bottom=0.155)\n",
    "plt.gcf().subplots_adjust(left=0.155)\n",
    "\n",
    "plt.legend(loc=\"upper left\",frameon=False,numpoints=1)\n",
    "plt.savefig(\"Gamma3d_plaquettes.pdf\")\n",
    "plt.show()"
   ]
  },
  {
   "cell_type": "markdown",
   "metadata": {},
   "source": [
    "## Flux excitations with tubes (plaquettes)"
   ]
  },
  {
   "cell_type": "code",
   "execution_count": 76,
   "metadata": {
    "collapsed": false
   },
   "outputs": [],
   "source": [
    "import numpy as np\n",
    "import matplotlib.pyplot as plt\n",
    "from matplotlib import rcParams\n",
    "import prepare_plotting as pp\n",
    "\n",
    "pp.prepare_aps_fig(rcParams)\n",
    "\n",
    "    \n",
    "L=[8,9,12,16,17,18,20]\n",
    "for l in L:\n",
    "    beta,gamma,gamma_err=np.loadtxt(\"plaquettes/LW3D\"+str(l)+\"platubes.dat\",unpack=True)\n",
    "    plt.errorbar(beta,gamma,gamma_err,label=\"L = \"+str(l)+\" tubes\")\n",
    "\n",
    "L=[8]\n",
    "for l in L:\n",
    "    beta,gamma,gamma_err=np.loadtxt(\"plaquettes/LW3D\"+str(l)+\"platubesswitch.dat\",unpack=True)\n",
    "    #plt.errorbar(beta,gamma,gamma_err,fmt='.',label=\"L = \"+str(l)+\" tubes switcher\")\n",
    "        \n",
    "plt.axvline(0.76141)\n",
    "plt.axvline(0.76141/2)\n",
    "\n",
    "plt.axhline(0.0,color=\"black\")\n",
    "plt.axhline(np.log(2),color=\"red\")\n",
    "plt.axhline(2*np.log(2),color=\"red\")\n",
    "plt.axhline(3*np.log(2),color=\"red\")\n",
    "\n",
    "plt.xlabel(r\"$\\beta$\")\n",
    "plt.ylabel(r\"$\\gamma$\")\n",
    "\n",
    "#plt.xlim(0.19,0.81)\n",
    "plt.gcf().subplots_adjust(bottom=0.155)\n",
    "plt.gcf().subplots_adjust(left=0.155)\n",
    "plt.legend(loc=\"upper left\",frameon=False,numpoints=1)\n",
    "plt.savefig(\"Gamma3d_plaquettes_tube.pdf\")\n",
    "plt.show()"
   ]
  },
  {
   "cell_type": "markdown",
   "metadata": {},
   "source": [
    "## Flux excitations with layers (plaquette)"
   ]
  },
  {
   "cell_type": "code",
   "execution_count": 15,
   "metadata": {
    "collapsed": true
   },
   "outputs": [],
   "source": [
    "import numpy as np\n",
    "import matplotlib.pyplot as plt\n",
    "from matplotlib import rcParams\n",
    "import prepare_plotting as pp\n",
    "\n",
    "pp.prepare_aps_fig(rcParams)\n",
    "\n",
    "\n",
    "\n",
    "L=[8,12,16,20]\n",
    "for l in L:\n",
    "    beta,gamma,gamma_err=np.loadtxt(\"plaquettes/LW3D\"+str(l)+\"plalayers.dat\",unpack=True)\n",
    "    plt.errorbar(beta,gamma/l,gamma_err,fmt='-',label=r\"L = \"+str(l)+\" layers, $\\gamma / L$\")\n",
    "        \n",
    "plt.axvline(0.76141)\n",
    "plt.axvline(0.76141/2)\n",
    "\n",
    "plt.axhline(0.0,color=\"black\")\n",
    "plt.axhline(np.log(2),color=\"red\")\n",
    "\n",
    "plt.xlabel(r\"$\\beta$\")\n",
    "plt.ylabel(r\"$\\gamma$\")\n",
    "\n",
    "#plt.xlim(0.19,0.81)\n",
    "plt.gcf().subplots_adjust(bottom=0.155)\n",
    "plt.gcf().subplots_adjust(left=0.155)\n",
    "plt.legend(loc=\"upper left\",frameon=False,numpoints=1)\n",
    "plt.savefig(\"Gamma3d_plaquettes_layers.pdf\")\n",
    "plt.show()"
   ]
  },
  {
   "cell_type": "markdown",
   "metadata": {},
   "source": [
    "## Plaquette Groundstate in magnetic field"
   ]
  },
  {
   "cell_type": "code",
   "execution_count": 88,
   "metadata": {
    "collapsed": false
   },
   "outputs": [],
   "source": [
    "import numpy as np\n",
    "import matplotlib.pyplot as plt\n",
    "from matplotlib import rcParams\n",
    "rcParams['text.usetex']     = True\n",
    "\n",
    "    \n",
    "L=[8,9,10,12,13]\n",
    "for l in L:\n",
    "    magn,gamma,gamma_err=np.loadtxt(\"plaquettes_with_field/LW3D\"+str(l)+\"magntubes.dat\",unpack=True)\n",
    "    plt.errorbar(magn,gamma,gamma_err,label=\"L = \"+str(l))\n",
    "\n",
    "\n",
    "plt.axvline(0.221654)\n",
    "plt.axvline(0.221654/2)\n",
    "\n",
    "plt.axhline(0.0,color=\"black\")\n",
    "plt.axhline(np.log(2),color=\"red\")\n",
    "\n",
    "plt.xlabel(r\"loop tension~~~$h$\")\n",
    "plt.ylabel(r\"$\\gamma$\")\n",
    "\n",
    "#plt.xlim(0.3,0.8)\n",
    "plt.legend(loc=\"lower left\",frameon=False,numpoints=1)\n",
    "plt.savefig(\"Gamma3d_magn.pdf\")\n",
    "plt.show()"
   ]
  },
  {
   "cell_type": "markdown",
   "metadata": {},
   "source": [
    "## Plaquette groundstate in anisotropic magnetic field, h_z <> h"
   ]
  },
  {
   "cell_type": "code",
   "execution_count": 81,
   "metadata": {
    "collapsed": false
   },
   "outputs": [],
   "source": [
    "import numpy as np\n",
    "import matplotlib.pyplot as plt\n",
    "from matplotlib import rcParams\n",
    "rcParams['text.usetex']     = True\n",
    "\n",
    "    \n",
    "L=[8]\n",
    "dtau = [0.25,0.45,0.65,0.85]\n",
    "l=8\n",
    "for tau in dtau:\n",
    "    magn,gamma,gamma_err=np.loadtxt(\"plaquettes_with_transverse_field/LW3D\"+str(l)+\"_24_\"+str(tau)+\".dat\",unpack=True)\n",
    "    plt.errorbar(magn*2*1./tau,gamma,gamma_err,label=r\"L = \"+str(l)+\", $\\Delta t$=\"+str(tau))\n",
    "\n",
    "\n",
    "\n",
    "    #magn,gamma,gamma_err=np.loadtxt(\"plaquettes_with_transverse_field/LW3D\"+str(l)+\"tubes.dat\",unpack=True)\n",
    "    #plt.errorbar(magn*2*1./tau,gamma,gamma_err,label=r\"L = \"+str(l)+\", $\\Delta t$=\"+str(tau))\n",
    "\n",
    "plt.axvline(0.65695)\n",
    "plt.axvline(0.65695/2)\n",
    "\n",
    "plt.axhline(0.0,color=\"black\")\n",
    "plt.axhline(np.log(2),color=\"red\")\n",
    "\n",
    "plt.xlabel(r\"loop tension~~~$h$\")\n",
    "plt.ylabel(r\"$\\gamma$\")\n",
    "\n",
    "#plt.xlim(0.3,0.8)\n",
    "plt.legend(loc=\"upper right\",frameon=False,numpoints=1)\n",
    "plt.savefig(\"Gamma3d_transv_magn.pdf\")\n",
    "plt.show()"
   ]
  }
 ],
 "metadata": {
  "kernelspec": {
   "display_name": "Python 2",
   "language": "python",
   "name": "python2"
  },
  "language_info": {
   "codemirror_mode": {
    "name": "ipython",
    "version": 2
   },
   "file_extension": ".py",
   "mimetype": "text/x-python",
   "name": "python",
   "nbconvert_exporter": "python",
   "pygments_lexer": "ipython2",
   "version": "2.7.11+"
  }
 },
 "nbformat": 4,
 "nbformat_minor": 0
}
