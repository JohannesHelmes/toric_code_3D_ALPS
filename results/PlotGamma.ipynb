{
 "metadata": {
  "name": "",
  "signature": "sha256:cdab793ebb8cbb8e4c44fc6618cc166fa5a4a47df0bd67b69a6a6ded9603ca30"
 },
 "nbformat": 3,
 "nbformat_minor": 0,
 "worksheets": [
  {
   "cells": [
    {
     "cell_type": "code",
     "collapsed": false,
     "input": [
      "import numpy as np\n",
      "import matplotlib.pyplot as plt\n",
      "\n",
      "filename=[\"LW3D12.dat\",\"LW3D16.dat\",\"LW3D20.dat\"]\n",
      "L=[12,16,20]\n",
      "\n",
      "for l in L:\n",
      "    beta,gamma,gamma_err=np.loadtxt(\"LW3D\"+str(l)+\".dat\",unpack=True)\n",
      "    plt.errorbar(beta,gamma,gamma_err,label=\"L = \"+str(l))\n",
      "\n",
      "plt.axvline(0.76141)\n",
      "plt.axvline(0.76141/2)\n",
      "\n",
      "plt.axhline(0.0,color=\"black\")\n",
      "plt.axhline(np.log(2),color=\"red\")\n",
      "\n",
      "plt.xlabel(\"beta\")\n",
      "plt.ylabel(\"gamma\")\n",
      "\n",
      "plt.legend(loc=\"upper right\")\n",
      "plt.savefig(\"Gamma3d.pdf\")\n",
      "plt.show()\n"
     ],
     "language": "python",
     "metadata": {},
     "outputs": [],
     "prompt_number": 5
    }
   ],
   "metadata": {}
  }
 ]
}