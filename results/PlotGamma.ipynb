{
 "cells": [
  {
   "cell_type": "code",
   "execution_count": 6,
   "metadata": {
    "collapsed": false
   },
   "outputs": [],
   "source": [
    "import numpy as np\n",
    "import matplotlib.pyplot as plt\n",
    "\n",
    "filename=[\"LW3D12.dat\",\"LW3D16.dat\",\"LW3D20.dat\",\"LW3D21.dat\",\"LW3D25.dat\"]\n",
    "L=[12,16]\n",
    "\n",
    "\n",
    "Lver=[12,16]\n",
    "for l in Lver:\n",
    "    beta,gamma,gamma_err=np.loadtxt(\"LW3D\"+str(l)+\"ver.dat\",unpack=True)\n",
    "    plt.errorbar(beta,gamma,gamma_err,label=\"spherical L = \"+str(l))\n",
    "    \n",
    "plt.axvline(0.76141)\n",
    "plt.axvline(0.76141/2)\n",
    "\n",
    "plt.axhline(0.0,color=\"black\")\n",
    "plt.axhline(np.log(2),color=\"red\")\n",
    "\n",
    "plt.xlabel(\"beta\")\n",
    "plt.ylabel(\"gamma\")\n",
    "\n",
    "#plt.xlim(0.3,0.8)\n",
    "plt.legend(loc=\"upper left\")\n",
    "plt.savefig(\"Gamma3d.pdf\")\n",
    "plt.show()\n"
   ]
  }
 ],
 "metadata": {
  "kernelspec": {
   "display_name": "Python 2",
   "language": "python",
   "name": "python2"
  },
  "language_info": {
   "codemirror_mode": {
    "name": "ipython",
    "version": 2
   },
   "file_extension": ".py",
   "mimetype": "text/x-python",
   "name": "python",
   "nbconvert_exporter": "python",
   "pygments_lexer": "ipython2",
   "version": "2.7.10"
  }
 },
 "nbformat": 4,
 "nbformat_minor": 0
}
